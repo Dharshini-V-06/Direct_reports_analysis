{
 "cells": [
  {
   "cell_type": "code",
   "execution_count": 1,
   "id": "d6cc2333",
   "metadata": {},
   "outputs": [],
   "source": [
    "import pandas as pd \n",
    "import numpy as np \n",
    "import matplotlib.pyplot as plt \n",
    "import sympy as sp \n",
    "import seaborn as sns"
   ]
  },
  {
   "cell_type": "code",
   "execution_count": 3,
   "id": "970c043b",
   "metadata": {},
   "outputs": [
    {
     "data": {
      "text/html": [
       "<div>\n",
       "<style scoped>\n",
       "    .dataframe tbody tr th:only-of-type {\n",
       "        vertical-align: middle;\n",
       "    }\n",
       "\n",
       "    .dataframe tbody tr th {\n",
       "        vertical-align: top;\n",
       "    }\n",
       "\n",
       "    .dataframe thead th {\n",
       "        text-align: right;\n",
       "    }\n",
       "</style>\n",
       "<table border=\"1\" class=\"dataframe\">\n",
       "  <thead>\n",
       "    <tr style=\"text-align: right;\">\n",
       "      <th></th>\n",
       "      <th>employee_id</th>\n",
       "      <th>position</th>\n",
       "      <th>managers_id</th>\n",
       "    </tr>\n",
       "  </thead>\n",
       "  <tbody>\n",
       "    <tr>\n",
       "      <th>0</th>\n",
       "      <td>1001</td>\n",
       "      <td>Analytics Manager</td>\n",
       "      <td>1013.0</td>\n",
       "    </tr>\n",
       "    <tr>\n",
       "      <th>1</th>\n",
       "      <td>1002</td>\n",
       "      <td>Data Engineer</td>\n",
       "      <td>1007.0</td>\n",
       "    </tr>\n",
       "    <tr>\n",
       "      <th>2</th>\n",
       "      <td>1003</td>\n",
       "      <td>Data Engineer</td>\n",
       "      <td>1001.0</td>\n",
       "    </tr>\n",
       "    <tr>\n",
       "      <th>3</th>\n",
       "      <td>1004</td>\n",
       "      <td>Database Developer</td>\n",
       "      <td>1017.0</td>\n",
       "    </tr>\n",
       "    <tr>\n",
       "      <th>4</th>\n",
       "      <td>1005</td>\n",
       "      <td>Data Analyst</td>\n",
       "      <td>1001.0</td>\n",
       "    </tr>\n",
       "  </tbody>\n",
       "</table>\n",
       "</div>"
      ],
      "text/plain": [
       "   employee_id            position  managers_id\n",
       "0         1001   Analytics Manager       1013.0\n",
       "1         1002       Data Engineer       1007.0\n",
       "2         1003       Data Engineer       1001.0\n",
       "3         1004  Database Developer       1017.0\n",
       "4         1005        Data Analyst       1001.0"
      ]
     },
     "execution_count": 3,
     "metadata": {},
     "output_type": "execute_result"
    }
   ],
   "source": [
    "df=pd.read_csv('direct_reports_dataset.csv')\n",
    "df.head(5)"
   ]
  },
  {
   "cell_type": "code",
   "execution_count": 4,
   "id": "1925afe9",
   "metadata": {},
   "outputs": [
    {
     "data": {
      "text/plain": [
       "(100, 3)"
      ]
     },
     "execution_count": 4,
     "metadata": {},
     "output_type": "execute_result"
    }
   ],
   "source": [
    "df.shape"
   ]
  },
  {
   "cell_type": "code",
   "execution_count": 5,
   "id": "1af8f8b7",
   "metadata": {},
   "outputs": [
    {
     "data": {
      "text/plain": [
       "Index(['employee_id', 'position', 'managers_id'], dtype='object')"
      ]
     },
     "execution_count": 5,
     "metadata": {},
     "output_type": "execute_result"
    }
   ],
   "source": [
    "df.columns"
   ]
  },
  {
   "cell_type": "code",
   "execution_count": 6,
   "id": "7df975e8",
   "metadata": {},
   "outputs": [
    {
     "name": "stdout",
     "output_type": "stream",
     "text": [
      "employee_id      int64\n",
      "position        object\n",
      "managers_id    float64\n",
      "dtype: object\n"
     ]
    }
   ],
   "source": [
    "print(df.dtypes)"
   ]
  },
  {
   "cell_type": "code",
   "execution_count": 7,
   "id": "8aecb796",
   "metadata": {},
   "outputs": [
    {
     "data": {
      "text/plain": [
       "employee_id    0\n",
       "position       0\n",
       "managers_id    4\n",
       "dtype: int64"
      ]
     },
     "execution_count": 7,
     "metadata": {},
     "output_type": "execute_result"
    }
   ],
   "source": [
    "df.isnull().sum()"
   ]
  },
  {
   "cell_type": "code",
   "execution_count": 8,
   "id": "57a3e3eb",
   "metadata": {},
   "outputs": [
    {
     "data": {
      "text/plain": [
       "np.int64(0)"
      ]
     },
     "execution_count": 8,
     "metadata": {},
     "output_type": "execute_result"
    }
   ],
   "source": [
    "df.duplicated().any().sum()"
   ]
  },
  {
   "cell_type": "code",
   "execution_count": 9,
   "id": "16d4e09a",
   "metadata": {},
   "outputs": [
    {
     "data": {
      "text/html": [
       "<div>\n",
       "<style scoped>\n",
       "    .dataframe tbody tr th:only-of-type {\n",
       "        vertical-align: middle;\n",
       "    }\n",
       "\n",
       "    .dataframe tbody tr th {\n",
       "        vertical-align: top;\n",
       "    }\n",
       "\n",
       "    .dataframe thead th {\n",
       "        text-align: right;\n",
       "    }\n",
       "</style>\n",
       "<table border=\"1\" class=\"dataframe\">\n",
       "  <thead>\n",
       "    <tr style=\"text-align: right;\">\n",
       "      <th></th>\n",
       "      <th>employee_id</th>\n",
       "      <th>managers_id</th>\n",
       "    </tr>\n",
       "  </thead>\n",
       "  <tbody>\n",
       "    <tr>\n",
       "      <th>count</th>\n",
       "      <td>100.000000</td>\n",
       "      <td>96.000000</td>\n",
       "    </tr>\n",
       "    <tr>\n",
       "      <th>mean</th>\n",
       "      <td>1845.110000</td>\n",
       "      <td>1009.729167</td>\n",
       "    </tr>\n",
       "    <tr>\n",
       "      <th>std</th>\n",
       "      <td>407.056691</td>\n",
       "      <td>6.122399</td>\n",
       "    </tr>\n",
       "    <tr>\n",
       "      <th>min</th>\n",
       "      <td>1001.000000</td>\n",
       "      <td>1001.000000</td>\n",
       "    </tr>\n",
       "    <tr>\n",
       "      <th>25%</th>\n",
       "      <td>2006.750000</td>\n",
       "      <td>1007.000000</td>\n",
       "    </tr>\n",
       "    <tr>\n",
       "      <th>50%</th>\n",
       "      <td>2031.500000</td>\n",
       "      <td>1007.000000</td>\n",
       "    </tr>\n",
       "    <tr>\n",
       "      <th>75%</th>\n",
       "      <td>2056.250000</td>\n",
       "      <td>1017.000000</td>\n",
       "    </tr>\n",
       "    <tr>\n",
       "      <th>max</th>\n",
       "      <td>2081.000000</td>\n",
       "      <td>1017.000000</td>\n",
       "    </tr>\n",
       "  </tbody>\n",
       "</table>\n",
       "</div>"
      ],
      "text/plain": [
       "       employee_id  managers_id\n",
       "count   100.000000    96.000000\n",
       "mean   1845.110000  1009.729167\n",
       "std     407.056691     6.122399\n",
       "min    1001.000000  1001.000000\n",
       "25%    2006.750000  1007.000000\n",
       "50%    2031.500000  1007.000000\n",
       "75%    2056.250000  1017.000000\n",
       "max    2081.000000  1017.000000"
      ]
     },
     "execution_count": 9,
     "metadata": {},
     "output_type": "execute_result"
    }
   ],
   "source": [
    "df.describe()"
   ]
  },
  {
   "cell_type": "code",
   "execution_count": 10,
   "id": "2edde028",
   "metadata": {},
   "outputs": [
    {
     "data": {
      "text/plain": [
       "array(['Analytics Manager', 'Data Engineer', 'Database Developer',\n",
       "       'Data Analyst', 'Data Engineering Manager', 'Data Scientist',\n",
       "       'CTO', 'Data Science Manager'], dtype=object)"
      ]
     },
     "execution_count": 10,
     "metadata": {},
     "output_type": "execute_result"
    }
   ],
   "source": [
    "df['position'].unique()"
   ]
  },
  {
   "cell_type": "code",
   "execution_count": 11,
   "id": "fbbf9622",
   "metadata": {},
   "outputs": [
    {
     "name": "stdout",
     "output_type": "stream",
     "text": [
      "    employee_id                  position  managers_id\n",
      "0          1001         Analytics Manager       1013.0\n",
      "6          1007  Data Engineering Manager       1013.0\n",
      "16         1017      Data Science Manager       1013.0\n",
      "28         2010  Data Engineering Manager       1013.0\n",
      "30         2012         Analytics Manager       1013.0\n",
      "31         2013      Data Science Manager       1013.0\n",
      "32         2014      Data Science Manager       1013.0\n",
      "33         2015         Analytics Manager       1013.0\n",
      "37         2019      Data Science Manager       1013.0\n",
      "38         2020  Data Engineering Manager       1013.0\n",
      "41         2023  Data Engineering Manager       1013.0\n",
      "44         2026      Data Science Manager       1013.0\n",
      "62         2044      Data Science Manager       1013.0\n",
      "72         2054         Analytics Manager       1013.0\n",
      "73         2055  Data Engineering Manager       1013.0\n",
      "83         2065      Data Science Manager       1013.0\n",
      "86         2068         Analytics Manager       1013.0\n",
      "89         2071         Analytics Manager       1013.0\n",
      "92         2074  Data Engineering Manager       1013.0\n"
     ]
    }
   ],
   "source": [
    "print(df[df['position'].str.contains(\"Manager\", case=False, na=False)])"
   ]
  },
  {
   "cell_type": "code",
   "execution_count": 12,
   "id": "692040bf",
   "metadata": {},
   "outputs": [
    {
     "data": {
      "text/plain": [
       "managers_id\n",
       "1001.0    22\n",
       "1007.0    27\n",
       "1013.0    19\n",
       "1017.0    28\n",
       "Name: employee_id, dtype: int64"
      ]
     },
     "execution_count": 12,
     "metadata": {},
     "output_type": "execute_result"
    }
   ],
   "source": [
    "df.groupby(\"managers_id\")[\"employee_id\"].count()"
   ]
  },
  {
   "cell_type": "code",
   "execution_count": 13,
   "id": "51cea9f4",
   "metadata": {},
   "outputs": [
    {
     "name": "stdout",
     "output_type": "stream",
     "text": [
      "1017.0\n"
     ]
    }
   ],
   "source": [
    "grouped = df.groupby(\"managers_id\")[\"employee_id\"].count()\n",
    "print(grouped.idxmax())"
   ]
  },
  {
   "cell_type": "code",
   "execution_count": 14,
   "id": "d27aeae3",
   "metadata": {},
   "outputs": [
    {
     "data": {
      "image/png": "[encoded data removed]",
      "text/plain": [
       "<Figure size 800x400 with 1 Axes>"
      ]
     },
     "metadata": {},
     "output_type": "display_data"
    }
   ],
   "source": [
    "reports_counts=pd.Series({\n",
    "    1001.0: 22,\n",
    "    1007.0: 27,\n",
    "    1013.0: 19,\n",
    "    1017.0: 28\n",
    "})\n",
    "plt.figure(figsize=(8,4))\n",
    "reports_counts.plot(kind=\"bar\", color=\"skyblue\", edgecolor=\"black\")\n",
    "plt.xlabel(\"Manager Id\")\n",
    "plt.ylabel(\"Number of Direct Reports\")\n",
    "plt.title(\"Managers vs Number of Direct Reports\")\n",
    "plt.xticks(rotation=0)\n",
    "plt.show()"
   ]
  },
  {
   "cell_type": "code",
   "execution_count": 15,
   "id": "082fbd59",
   "metadata": {},
   "outputs": [
    {
     "name": "stdout",
     "output_type": "stream",
     "text": [
      "Average number of direct reports per manager: 24.0\n"
     ]
    }
   ],
   "source": [
    "reports = pd.DataFrame({\n",
    "    'managers_id': [1001.0,1007.0, 1013.0, 1017.0],\n",
    "    'direct_reports': [22, 27, 19, 28]\n",
    "})\n",
    "average_reports=reports['direct_reports'].mean()\n",
    "print(\"Average number of direct reports per manager:\", average_reports)"
   ]
  },
  {
   "cell_type": "code",
   "execution_count": 16,
   "id": "96cfec6d",
   "metadata": {},
   "outputs": [
    {
     "name": "stdout",
     "output_type": "stream",
     "text": [
      "Median:  24.5\n",
      "Mode:\n",
      "0    19\n",
      "1    22\n",
      "2    27\n",
      "3    28\n",
      "Name: direct_reports, dtype: int64\n"
     ]
    }
   ],
   "source": [
    "print(\"Median: \",reports['direct_reports'].median())\n",
    "print(\"Mode:\")\n",
    "print(reports['direct_reports'].mode())"
   ]
  },
  {
   "cell_type": "code",
   "execution_count": 17,
   "id": "31ac8084",
   "metadata": {},
   "outputs": [
    {
     "data": {
      "text/plain": [
       "0.19"
      ]
     },
     "execution_count": 17,
     "metadata": {},
     "output_type": "execute_result"
    }
   ],
   "source": [
    "cto_id = df.loc[df['position'].str.contains('CTO', case=False), 'employee_id'].values\n",
    "cto_id\n",
    "if len(cto_id) > 0:\n",
    "    cto_reports_count = df[df['managers_id'] == cto_id[0]].shape[0]\n",
    "else:\n",
    "    cto_reports_count = 0\n",
    "cto_reports_count\n",
    "total_employees = df.shape[0]\n",
    "total_employees\n",
    "prob = cto_reports_count / total_employees\n",
    "prob\n"
   ]
  },
  {
   "cell_type": "code",
   "execution_count": 18,
   "id": "d0177c79",
   "metadata": {},
   "outputs": [
    {
     "name": "stdout",
     "output_type": "stream",
     "text": [
      "[22 27 19 28]\n"
     ]
    }
   ],
   "source": [
    "direct_reports = np.array([22, 27, 19, 28])\n",
    "print(direct_reports)"
   ]
  },
  {
   "cell_type": "code",
   "execution_count": 19,
   "id": "346bff9e",
   "metadata": {},
   "outputs": [
    {
     "name": "stdout",
     "output_type": "stream",
     "text": [
      "[1. 1. 1. 1.]\n"
     ]
    }
   ],
   "source": [
    "num_managers = 4\n",
    "manager_influence = np.ones(num_managers)\n",
    "print(manager_influence)"
   ]
  },
  {
   "cell_type": "code",
   "execution_count": 20,
   "id": "e4c9355f",
   "metadata": {},
   "outputs": [
    {
     "name": "stdout",
     "output_type": "stream",
     "text": [
      "Vector Addition:  [23. 28. 20. 29.]\n",
      "Vector Subtraction: [21. 26. 18. 27.]\n"
     ]
    }
   ],
   "source": [
    "print(\"Vector Addition: \", direct_reports+manager_influence)\n",
    "print(\"Vector Subtraction:\", direct_reports-manager_influence)"
   ]
  },
  {
   "cell_type": "code",
   "execution_count": 21,
   "id": "a404116c",
   "metadata": {},
   "outputs": [
    {
     "name": "stdout",
     "output_type": "stream",
     "text": [
      "Dot Product: 96.0\n"
     ]
    }
   ],
   "source": [
    "dot_product = np.dot(direct_reports, manager_influence)\n",
    "print(\"Dot Product:\",dot_product)"
   ]
  },
  {
   "cell_type": "code",
   "execution_count": 22,
   "id": "106166a3",
   "metadata": {},
   "outputs": [
    {
     "name": "stdout",
     "output_type": "stream",
     "text": [
      "[22. 27. 19. 28.]\n"
     ]
    }
   ],
   "source": [
    "multiply = np.multiply(direct_reports, manager_influence)\n",
    "print(multiply)"
   ]
  },
  {
   "cell_type": "code",
   "execution_count": 23,
   "id": "239b1079",
   "metadata": {},
   "outputs": [
    {
     "data": {
      "text/latex": [
       "$\\displaystyle \\frac{Efficiency_{Factor}}{Manager_{Experience}}$"
      ],
      "text/plain": [
       "Efficiency_Factor/Manager_Experience"
      ]
     },
     "execution_count": 23,
     "metadata": {},
     "output_type": "execute_result"
    }
   ],
   "source": [
    "import sympy as sp\n",
    "Direct_Reports, Efficiency_Factor, Manager_Experience = sp.symbols('Direct_Reports Efficiency_Factor Manager_Experience')\n",
    "\n",
    "Productivity_Score = (Direct_Reports * Efficiency_Factor) / Manager_Experience\n",
    "dPS_dDR = sp.diff(Productivity_Score, Direct_Reports)\n",
    "dPS_dDR"
   ]
  },
  {
   "cell_type": "code",
   "execution_count": 24,
   "id": "30221de5",
   "metadata": {},
   "outputs": [
    {
     "data": {
      "text/html": [
       "<div>\n",
       "<style scoped>\n",
       "    .dataframe tbody tr th:only-of-type {\n",
       "        vertical-align: middle;\n",
       "    }\n",
       "\n",
       "    .dataframe tbody tr th {\n",
       "        vertical-align: top;\n",
       "    }\n",
       "\n",
       "    .dataframe thead th {\n",
       "        text-align: right;\n",
       "    }\n",
       "</style>\n",
       "<table border=\"1\" class=\"dataframe\">\n",
       "  <thead>\n",
       "    <tr style=\"text-align: right;\">\n",
       "      <th></th>\n",
       "      <th>employee_id</th>\n",
       "      <th>position</th>\n",
       "      <th>managers_id</th>\n",
       "      <th>Direct_Reports_Count</th>\n",
       "    </tr>\n",
       "  </thead>\n",
       "  <tbody>\n",
       "    <tr>\n",
       "      <th>0</th>\n",
       "      <td>1001</td>\n",
       "      <td>Analytics Manager</td>\n",
       "      <td>1013.0</td>\n",
       "      <td>19.0</td>\n",
       "    </tr>\n",
       "    <tr>\n",
       "      <th>1</th>\n",
       "      <td>1002</td>\n",
       "      <td>Data Engineer</td>\n",
       "      <td>1007.0</td>\n",
       "      <td>27.0</td>\n",
       "    </tr>\n",
       "    <tr>\n",
       "      <th>2</th>\n",
       "      <td>1003</td>\n",
       "      <td>Data Engineer</td>\n",
       "      <td>1001.0</td>\n",
       "      <td>22.0</td>\n",
       "    </tr>\n",
       "    <tr>\n",
       "      <th>3</th>\n",
       "      <td>1004</td>\n",
       "      <td>Database Developer</td>\n",
       "      <td>1017.0</td>\n",
       "      <td>28.0</td>\n",
       "    </tr>\n",
       "    <tr>\n",
       "      <th>4</th>\n",
       "      <td>1005</td>\n",
       "      <td>Data Analyst</td>\n",
       "      <td>1001.0</td>\n",
       "      <td>22.0</td>\n",
       "    </tr>\n",
       "    <tr>\n",
       "      <th>5</th>\n",
       "      <td>1006</td>\n",
       "      <td>Data Engineer</td>\n",
       "      <td>1017.0</td>\n",
       "      <td>28.0</td>\n",
       "    </tr>\n",
       "    <tr>\n",
       "      <th>6</th>\n",
       "      <td>1007</td>\n",
       "      <td>Data Engineering Manager</td>\n",
       "      <td>1013.0</td>\n",
       "      <td>19.0</td>\n",
       "    </tr>\n",
       "    <tr>\n",
       "      <th>7</th>\n",
       "      <td>1008</td>\n",
       "      <td>Database Developer</td>\n",
       "      <td>1001.0</td>\n",
       "      <td>22.0</td>\n",
       "    </tr>\n",
       "    <tr>\n",
       "      <th>8</th>\n",
       "      <td>1009</td>\n",
       "      <td>Data Engineer</td>\n",
       "      <td>1007.0</td>\n",
       "      <td>27.0</td>\n",
       "    </tr>\n",
       "    <tr>\n",
       "      <th>9</th>\n",
       "      <td>1010</td>\n",
       "      <td>Data Scientist</td>\n",
       "      <td>1017.0</td>\n",
       "      <td>28.0</td>\n",
       "    </tr>\n",
       "  </tbody>\n",
       "</table>\n",
       "</div>"
      ],
      "text/plain": [
       "   employee_id                  position  managers_id  Direct_Reports_Count\n",
       "0         1001         Analytics Manager       1013.0                  19.0\n",
       "1         1002             Data Engineer       1007.0                  27.0\n",
       "2         1003             Data Engineer       1001.0                  22.0\n",
       "3         1004        Database Developer       1017.0                  28.0\n",
       "4         1005              Data Analyst       1001.0                  22.0\n",
       "5         1006             Data Engineer       1017.0                  28.0\n",
       "6         1007  Data Engineering Manager       1013.0                  19.0\n",
       "7         1008        Database Developer       1001.0                  22.0\n",
       "8         1009             Data Engineer       1007.0                  27.0\n",
       "9         1010            Data Scientist       1017.0                  28.0"
      ]
     },
     "execution_count": 24,
     "metadata": {},
     "output_type": "execute_result"
    }
   ],
   "source": [
    "df['Direct_Reports_Count']=df.groupby('managers_id')['managers_id'].transform('count')\n",
    "df.head(10)"
   ]
  },
  {
   "cell_type": "code",
   "execution_count": 25,
   "id": "52390377",
   "metadata": {},
   "outputs": [
    {
     "data": {
      "text/html": [
       "<div>\n",
       "<style scoped>\n",
       "    .dataframe tbody tr th:only-of-type {\n",
       "        vertical-align: middle;\n",
       "    }\n",
       "\n",
       "    .dataframe tbody tr th {\n",
       "        vertical-align: top;\n",
       "    }\n",
       "\n",
       "    .dataframe thead th {\n",
       "        text-align: right;\n",
       "    }\n",
       "</style>\n",
       "<table border=\"1\" class=\"dataframe\">\n",
       "  <thead>\n",
       "    <tr style=\"text-align: right;\">\n",
       "      <th></th>\n",
       "      <th>employee_id</th>\n",
       "      <th>position</th>\n",
       "      <th>managers_id</th>\n",
       "      <th>Direct_Reports_Count</th>\n",
       "      <th>Is_Manager</th>\n",
       "    </tr>\n",
       "  </thead>\n",
       "  <tbody>\n",
       "    <tr>\n",
       "      <th>0</th>\n",
       "      <td>1001</td>\n",
       "      <td>Analytics Manager</td>\n",
       "      <td>1013.0</td>\n",
       "      <td>19.0</td>\n",
       "      <td>1</td>\n",
       "    </tr>\n",
       "    <tr>\n",
       "      <th>1</th>\n",
       "      <td>1002</td>\n",
       "      <td>Data Engineer</td>\n",
       "      <td>1007.0</td>\n",
       "      <td>27.0</td>\n",
       "      <td>0</td>\n",
       "    </tr>\n",
       "    <tr>\n",
       "      <th>2</th>\n",
       "      <td>1003</td>\n",
       "      <td>Data Engineer</td>\n",
       "      <td>1001.0</td>\n",
       "      <td>22.0</td>\n",
       "      <td>0</td>\n",
       "    </tr>\n",
       "    <tr>\n",
       "      <th>3</th>\n",
       "      <td>1004</td>\n",
       "      <td>Database Developer</td>\n",
       "      <td>1017.0</td>\n",
       "      <td>28.0</td>\n",
       "      <td>0</td>\n",
       "    </tr>\n",
       "    <tr>\n",
       "      <th>4</th>\n",
       "      <td>1005</td>\n",
       "      <td>Data Analyst</td>\n",
       "      <td>1001.0</td>\n",
       "      <td>22.0</td>\n",
       "      <td>0</td>\n",
       "    </tr>\n",
       "    <tr>\n",
       "      <th>5</th>\n",
       "      <td>1006</td>\n",
       "      <td>Data Engineer</td>\n",
       "      <td>1017.0</td>\n",
       "      <td>28.0</td>\n",
       "      <td>0</td>\n",
       "    </tr>\n",
       "    <tr>\n",
       "      <th>6</th>\n",
       "      <td>1007</td>\n",
       "      <td>Data Engineering Manager</td>\n",
       "      <td>1013.0</td>\n",
       "      <td>19.0</td>\n",
       "      <td>1</td>\n",
       "    </tr>\n",
       "    <tr>\n",
       "      <th>7</th>\n",
       "      <td>1008</td>\n",
       "      <td>Database Developer</td>\n",
       "      <td>1001.0</td>\n",
       "      <td>22.0</td>\n",
       "      <td>0</td>\n",
       "    </tr>\n",
       "    <tr>\n",
       "      <th>8</th>\n",
       "      <td>1009</td>\n",
       "      <td>Data Engineer</td>\n",
       "      <td>1007.0</td>\n",
       "      <td>27.0</td>\n",
       "      <td>0</td>\n",
       "    </tr>\n",
       "    <tr>\n",
       "      <th>9</th>\n",
       "      <td>1010</td>\n",
       "      <td>Data Scientist</td>\n",
       "      <td>1017.0</td>\n",
       "      <td>28.0</td>\n",
       "      <td>0</td>\n",
       "    </tr>\n",
       "  </tbody>\n",
       "</table>\n",
       "</div>"
      ],
      "text/plain": [
       "   employee_id                  position  managers_id  Direct_Reports_Count  \\\n",
       "0         1001         Analytics Manager       1013.0                  19.0   \n",
       "1         1002             Data Engineer       1007.0                  27.0   \n",
       "2         1003             Data Engineer       1001.0                  22.0   \n",
       "3         1004        Database Developer       1017.0                  28.0   \n",
       "4         1005              Data Analyst       1001.0                  22.0   \n",
       "5         1006             Data Engineer       1017.0                  28.0   \n",
       "6         1007  Data Engineering Manager       1013.0                  19.0   \n",
       "7         1008        Database Developer       1001.0                  22.0   \n",
       "8         1009             Data Engineer       1007.0                  27.0   \n",
       "9         1010            Data Scientist       1017.0                  28.0   \n",
       "\n",
       "   Is_Manager  \n",
       "0           1  \n",
       "1           0  \n",
       "2           0  \n",
       "3           0  \n",
       "4           0  \n",
       "5           0  \n",
       "6           1  \n",
       "7           0  \n",
       "8           0  \n",
       "9           0  "
      ]
     },
     "execution_count": 25,
     "metadata": {},
     "output_type": "execute_result"
    }
   ],
   "source": [
    "df['Is_Manager']=df['position'].apply(lambda x: 1 if 'Manager' in x else 0)\n",
    "df.head(10)"
   ]
  },
  {
   "cell_type": "code",
   "execution_count": 26,
   "id": "af7aa13c",
   "metadata": {},
   "outputs": [
    {
     "name": "stdout",
     "output_type": "stream",
     "text": [
      "24.5625\n",
      "High_Team_Size\n",
      "1    55\n",
      "0    45\n",
      "Name: count, dtype: int64\n"
     ]
    },
    {
     "data": {
      "text/html": [
       "<div>\n",
       "<style scoped>\n",
       "    .dataframe tbody tr th:only-of-type {\n",
       "        vertical-align: middle;\n",
       "    }\n",
       "\n",
       "    .dataframe tbody tr th {\n",
       "        vertical-align: top;\n",
       "    }\n",
       "\n",
       "    .dataframe thead th {\n",
       "        text-align: right;\n",
       "    }\n",
       "</style>\n",
       "<table border=\"1\" class=\"dataframe\">\n",
       "  <thead>\n",
       "    <tr style=\"text-align: right;\">\n",
       "      <th></th>\n",
       "      <th>employee_id</th>\n",
       "      <th>position</th>\n",
       "      <th>managers_id</th>\n",
       "      <th>Direct_Reports_Count</th>\n",
       "      <th>Is_Manager</th>\n",
       "      <th>High_Team_Size</th>\n",
       "    </tr>\n",
       "  </thead>\n",
       "  <tbody>\n",
       "    <tr>\n",
       "      <th>0</th>\n",
       "      <td>1001</td>\n",
       "      <td>Analytics Manager</td>\n",
       "      <td>1013.0</td>\n",
       "      <td>19.0</td>\n",
       "      <td>1</td>\n",
       "      <td>0</td>\n",
       "    </tr>\n",
       "    <tr>\n",
       "      <th>1</th>\n",
       "      <td>1002</td>\n",
       "      <td>Data Engineer</td>\n",
       "      <td>1007.0</td>\n",
       "      <td>27.0</td>\n",
       "      <td>0</td>\n",
       "      <td>1</td>\n",
       "    </tr>\n",
       "    <tr>\n",
       "      <th>2</th>\n",
       "      <td>1003</td>\n",
       "      <td>Data Engineer</td>\n",
       "      <td>1001.0</td>\n",
       "      <td>22.0</td>\n",
       "      <td>0</td>\n",
       "      <td>0</td>\n",
       "    </tr>\n",
       "    <tr>\n",
       "      <th>3</th>\n",
       "      <td>1004</td>\n",
       "      <td>Database Developer</td>\n",
       "      <td>1017.0</td>\n",
       "      <td>28.0</td>\n",
       "      <td>0</td>\n",
       "      <td>1</td>\n",
       "    </tr>\n",
       "    <tr>\n",
       "      <th>4</th>\n",
       "      <td>1005</td>\n",
       "      <td>Data Analyst</td>\n",
       "      <td>1001.0</td>\n",
       "      <td>22.0</td>\n",
       "      <td>0</td>\n",
       "      <td>0</td>\n",
       "    </tr>\n",
       "  </tbody>\n",
       "</table>\n",
       "</div>"
      ],
      "text/plain": [
       "   employee_id            position  managers_id  Direct_Reports_Count  \\\n",
       "0         1001   Analytics Manager       1013.0                  19.0   \n",
       "1         1002       Data Engineer       1007.0                  27.0   \n",
       "2         1003       Data Engineer       1001.0                  22.0   \n",
       "3         1004  Database Developer       1017.0                  28.0   \n",
       "4         1005        Data Analyst       1001.0                  22.0   \n",
       "\n",
       "   Is_Manager  High_Team_Size  \n",
       "0           1               0  \n",
       "1           0               1  \n",
       "2           0               0  \n",
       "3           0               1  \n",
       "4           0               0  "
      ]
     },
     "execution_count": 26,
     "metadata": {},
     "output_type": "execute_result"
    }
   ],
   "source": [
    "avg_reports=df['Direct_Reports_Count'].mean()\n",
    "print(avg_reports)\n",
    "df['High_Team_Size']=df['Direct_Reports_Count'].apply(lambda x: 1 if x>avg_reports else 0)\n",
    "print(df['High_Team_Size'].value_counts())\n",
    "df.head(5)"
   ]
  },
  {
   "cell_type": "code",
   "execution_count": 28,
   "id": "19023c49",
   "metadata": {},
   "outputs": [
    {
     "data": {
      "image/png": "[encoded data removed]",
      "text/plain": [
       "<Figure size 600x600 with 1 Axes>"
      ]
     },
     "metadata": {},
     "output_type": "display_data"
    }
   ],
   "source": [
    "team_size_counts = df['High_Team_Size'].value_counts()\n",
    "plt.figure(figsize=(6,6))\n",
    "plt.pie(\n",
    "    team_size_counts,\n",
    "    labels=['Low Team Size','High Team Size'],\n",
    "    autopct='%1.1f%%',\n",
    "    colors=['lightcoral','lightgreen'],\n",
    "    startangle=90\n",
    ")\n",
    "plt.title('Proportion of Managers with High vs Low Team Size')\n",
    "plt.show()"
   ]
  },
  {
   "cell_type": "code",
   "execution_count": 29,
   "id": "caa2fcd3",
   "metadata": {},
   "outputs": [
    {
     "data": {
      "text/html": [
       "<div>\n",
       "<style scoped>\n",
       "    .dataframe tbody tr th:only-of-type {\n",
       "        vertical-align: middle;\n",
       "    }\n",
       "\n",
       "    .dataframe tbody tr th {\n",
       "        vertical-align: top;\n",
       "    }\n",
       "\n",
       "    .dataframe thead th {\n",
       "        text-align: right;\n",
       "    }\n",
       "</style>\n",
       "<table border=\"1\" class=\"dataframe\">\n",
       "  <thead>\n",
       "    <tr style=\"text-align: right;\">\n",
       "      <th></th>\n",
       "      <th>employee_id</th>\n",
       "      <th>position</th>\n",
       "      <th>managers_id</th>\n",
       "      <th>Direct_Reports_Count</th>\n",
       "      <th>Is_Manager</th>\n",
       "      <th>High_Team_Size</th>\n",
       "      <th>Manager_Rank</th>\n",
       "    </tr>\n",
       "  </thead>\n",
       "  <tbody>\n",
       "    <tr>\n",
       "      <th>0</th>\n",
       "      <td>1001</td>\n",
       "      <td>Analytics Manager</td>\n",
       "      <td>1013.0</td>\n",
       "      <td>19.0</td>\n",
       "      <td>1</td>\n",
       "      <td>0</td>\n",
       "      <td>4</td>\n",
       "    </tr>\n",
       "    <tr>\n",
       "      <th>1</th>\n",
       "      <td>1002</td>\n",
       "      <td>Data Engineer</td>\n",
       "      <td>1007.0</td>\n",
       "      <td>27.0</td>\n",
       "      <td>0</td>\n",
       "      <td>1</td>\n",
       "      <td>2</td>\n",
       "    </tr>\n",
       "    <tr>\n",
       "      <th>2</th>\n",
       "      <td>1003</td>\n",
       "      <td>Data Engineer</td>\n",
       "      <td>1001.0</td>\n",
       "      <td>22.0</td>\n",
       "      <td>0</td>\n",
       "      <td>0</td>\n",
       "      <td>3</td>\n",
       "    </tr>\n",
       "    <tr>\n",
       "      <th>3</th>\n",
       "      <td>1004</td>\n",
       "      <td>Database Developer</td>\n",
       "      <td>1017.0</td>\n",
       "      <td>28.0</td>\n",
       "      <td>0</td>\n",
       "      <td>1</td>\n",
       "      <td>1</td>\n",
       "    </tr>\n",
       "    <tr>\n",
       "      <th>4</th>\n",
       "      <td>1005</td>\n",
       "      <td>Data Analyst</td>\n",
       "      <td>1001.0</td>\n",
       "      <td>22.0</td>\n",
       "      <td>0</td>\n",
       "      <td>0</td>\n",
       "      <td>3</td>\n",
       "    </tr>\n",
       "    <tr>\n",
       "      <th>5</th>\n",
       "      <td>1006</td>\n",
       "      <td>Data Engineer</td>\n",
       "      <td>1017.0</td>\n",
       "      <td>28.0</td>\n",
       "      <td>0</td>\n",
       "      <td>1</td>\n",
       "      <td>1</td>\n",
       "    </tr>\n",
       "    <tr>\n",
       "      <th>6</th>\n",
       "      <td>1007</td>\n",
       "      <td>Data Engineering Manager</td>\n",
       "      <td>1013.0</td>\n",
       "      <td>19.0</td>\n",
       "      <td>1</td>\n",
       "      <td>0</td>\n",
       "      <td>4</td>\n",
       "    </tr>\n",
       "    <tr>\n",
       "      <th>7</th>\n",
       "      <td>1008</td>\n",
       "      <td>Database Developer</td>\n",
       "      <td>1001.0</td>\n",
       "      <td>22.0</td>\n",
       "      <td>0</td>\n",
       "      <td>0</td>\n",
       "      <td>3</td>\n",
       "    </tr>\n",
       "    <tr>\n",
       "      <th>8</th>\n",
       "      <td>1009</td>\n",
       "      <td>Data Engineer</td>\n",
       "      <td>1007.0</td>\n",
       "      <td>27.0</td>\n",
       "      <td>0</td>\n",
       "      <td>1</td>\n",
       "      <td>2</td>\n",
       "    </tr>\n",
       "    <tr>\n",
       "      <th>9</th>\n",
       "      <td>1010</td>\n",
       "      <td>Data Scientist</td>\n",
       "      <td>1017.0</td>\n",
       "      <td>28.0</td>\n",
       "      <td>0</td>\n",
       "      <td>1</td>\n",
       "      <td>1</td>\n",
       "    </tr>\n",
       "  </tbody>\n",
       "</table>\n",
       "</div>"
      ],
      "text/plain": [
       "   employee_id                  position  managers_id  Direct_Reports_Count  \\\n",
       "0         1001         Analytics Manager       1013.0                  19.0   \n",
       "1         1002             Data Engineer       1007.0                  27.0   \n",
       "2         1003             Data Engineer       1001.0                  22.0   \n",
       "3         1004        Database Developer       1017.0                  28.0   \n",
       "4         1005              Data Analyst       1001.0                  22.0   \n",
       "5         1006             Data Engineer       1017.0                  28.0   \n",
       "6         1007  Data Engineering Manager       1013.0                  19.0   \n",
       "7         1008        Database Developer       1001.0                  22.0   \n",
       "8         1009             Data Engineer       1007.0                  27.0   \n",
       "9         1010            Data Scientist       1017.0                  28.0   \n",
       "\n",
       "   Is_Manager  High_Team_Size  Manager_Rank  \n",
       "0           1               0             4  \n",
       "1           0               1             2  \n",
       "2           0               0             3  \n",
       "3           0               1             1  \n",
       "4           0               0             3  \n",
       "5           0               1             1  \n",
       "6           1               0             4  \n",
       "7           0               0             3  \n",
       "8           0               1             2  \n",
       "9           0               1             1  "
      ]
     },
     "execution_count": 29,
     "metadata": {},
     "output_type": "execute_result"
    }
   ],
   "source": [
    "df['Manager_Rank']=df['Direct_Reports_Count'].rank(method='dense', ascending=False).astype('Int64')\n",
    "df.head(10)"
   ]
  },
  {
   "cell_type": "code",
   "execution_count": 30,
   "id": "cb223046",
   "metadata": {},
   "outputs": [
    {
     "name": "stdout",
     "output_type": "stream",
     "text": [
      "   managers_id  Direct_Reports_Count\n",
      "0       1013.0                  19.0\n",
      "1       1007.0                  27.0\n",
      "2       1001.0                  22.0\n",
      "3       1017.0                  28.0\n"
     ]
    }
   ],
   "source": [
    "managers_gt3=df[df['Direct_Reports_Count']>3][['managers_id', 'Direct_Reports_Count']].drop_duplicates()\n",
    "print(managers_gt3)"
   ]
  },
  {
   "cell_type": "code",
   "execution_count": 31,
   "id": "3c01f991",
   "metadata": {},
   "outputs": [
    {
     "name": "stdout",
     "output_type": "stream",
     "text": [
      "   managers_id  Direct_Reports_Count  employee_id\n",
      "3       1017.0                  28.0         1004\n",
      "1       1007.0                  27.0         1002\n",
      "2       1001.0                  22.0         1003\n",
      "0       1013.0                  19.0         1001\n"
     ]
    }
   ],
   "source": [
    "sorted_managers=(\n",
    "    df[df['managers_id'].notna()]\n",
    "    .drop_duplicates(subset=['managers_id'])\n",
    "    .sort_values(by=['Direct_Reports_Count','employee_id'],\n",
    "                 ascending=[False, True])\n",
    ")\n",
    "print(sorted_managers[['managers_id','Direct_Reports_Count','employee_id']])"
   ]
  },
  {
   "cell_type": "code",
   "execution_count": 32,
   "id": "fa1203d6",
   "metadata": {},
   "outputs": [
    {
     "name": "stdout",
     "output_type": "stream",
     "text": [
      "managers_id                         1017.0\n",
      "position                Database Developer\n",
      "Direct_Reports_Count                  28.0\n",
      "Name: 3, dtype: object\n"
     ]
    }
   ],
   "source": [
    "managers=df.drop_duplicates(subset=['managers_id'])\n",
    "largest_team=managers.loc[managers['Direct_Reports_Count'].idxmax()]\n",
    "print(largest_team[['managers_id', 'position', 'Direct_Reports_Count']])"
   ]
  },
  {
   "cell_type": "code",
   "execution_count": 33,
   "id": "78fcfa18",
   "metadata": {},
   "outputs": [
    {
     "name": "stdout",
     "output_type": "stream",
     "text": [
      "Average team size: 24.0\n"
     ]
    }
   ],
   "source": [
    "avg_team_size=managers['Direct_Reports_Count'].mean()\n",
    "print(\"Average team size:\", avg_team_size)"
   ]
  },
  {
   "cell_type": "code",
   "execution_count": 34,
   "id": "10308d2b",
   "metadata": {},
   "outputs": [
    {
     "name": "stdout",
     "output_type": "stream",
     "text": [
      "   managers_id           position  Direct_Reports_Count\n",
      "0       1013.0  Analytics Manager                  19.0\n",
      "2       1001.0      Data Engineer                  22.0\n"
     ]
    }
   ],
   "source": [
    "below_avg=managers[managers['Direct_Reports_Count']<avg_team_size]\n",
    "print(below_avg[['managers_id', 'position', 'Direct_Reports_Count']])"
   ]
  },
  {
   "cell_type": "code",
   "execution_count": 35,
   "id": "df484da7",
   "metadata": {},
   "outputs": [
    {
     "name": "stdout",
     "output_type": "stream",
     "text": [
      "         Manager_Type  Direct_Reports_Count\n",
      "0           Analytics                  19.0\n",
      "1                 CTO                   NaN\n",
      "2       Data Engineer                  24.5\n",
      "3  Database Developer                  28.0\n"
     ]
    }
   ],
   "source": [
    "managers=df.drop_duplicates(subset=['managers_id']).copy()\n",
    "managers['Manager_Type']=managers['position'].str.replace('Manager','').str.strip()\n",
    "title_corr=managers.groupby('Manager_Type')['Direct_Reports_Count'].mean().reset_index()\n",
    "print(title_corr)"
   ]
  },
  {
   "cell_type": "code",
   "execution_count": 36,
   "id": "0622b9c9",
   "metadata": {},
   "outputs": [
    {
     "data": {
      "image/png": "[encoded data removed]",
      "text/plain": [
       "<Figure size 800x500 with 1 Axes>"
      ]
     },
     "metadata": {},
     "output_type": "display_data"
    }
   ],
   "source": [
    "plt.figure(figsize=(8,5))\n",
    "plt.bar(title_corr['Manager_Type'], title_corr['Direct_Reports_Count'], color='skyblue')\n",
    "plt.xlabel('Manager Type')\n",
    "plt.ylabel('Average Team Size')\n",
    "plt.title('Average Team Size by Manager Type')\n",
    "plt.xticks(rotation=45)\n",
    "plt.tight_layout()\n",
    "plt.show()"
   ]
  }
 ],
 "metadata": {
  "kernelspec": {
   "display_name": "Python 3",
   "language": "python",
   "name": "python3"
  },
  "language_info": {
   "codemirror_mode": {
    "name": "ipython",
    "version": 3
   },
   "file_extension": ".py",
   "mimetype": "text/x-python",
   "name": "python",
   "nbconvert_exporter": "python",
   "pygments_lexer": "ipython3",
   "version": "3.10.18"
  }
 },
 "nbformat": 4,
 "nbformat_minor": 5
}
